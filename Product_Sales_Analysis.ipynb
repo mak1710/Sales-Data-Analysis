{
 "cells": [
  {
   "cell_type": "markdown",
   "id": "03233f6b-bbb9-4e15-97c7-0a5fa428b307",
   "metadata": {},
   "source": [
    "Importing libraries"
   ]
  },
  {
   "cell_type": "code",
   "execution_count": 1,
   "id": "60f6a0da-48ea-4a36-9387-159668d8ad2c",
   "metadata": {},
   "outputs": [],
   "source": [
    "import pandas as pd\n",
    "import numpy as np\n",
    "import seaborn as sns\n",
    "import matplotlib.pyplot as plt\n",
    "import os\n",
    "     "
   ]
  },
  {
   "cell_type": "markdown",
   "id": "193c70d4-3ef2-4b78-93ad-8473b62358f9",
   "metadata": {},
   "source": [
    "Loading data"
   ]
  },
  {
   "cell_type": "code",
   "execution_count": 2,
   "id": "6928db05-a2f8-4707-9e39-e9a5e7da5c0e",
   "metadata": {},
   "outputs": [
    {
     "data": {
      "text/plain": [
       "['April_2019.csv',\n",
       " 'August_2019.csv',\n",
       " 'December_2019.csv',\n",
       " 'February_2019.csv',\n",
       " 'January_2019.csv',\n",
       " 'July_2019.csv',\n",
       " 'June_2019.csv',\n",
       " 'March_2019.csv',\n",
       " 'May_2019.csv',\n",
       " 'November_2019.csv',\n",
       " 'October_2019.csv',\n",
       " 'September_2019.csv']"
      ]
     },
     "execution_count": 2,
     "metadata": {},
     "output_type": "execute_result"
    }
   ],
   "source": [
    "filenames = os.listdir('./Data')\n",
    "filenames"
   ]
  },
  {
   "cell_type": "code",
   "execution_count": 4,
   "id": "d8a2993b-aa48-465b-a45a-4193380bc0a2",
   "metadata": {},
   "outputs": [],
   "source": [
    "entire_dataset = pd.DataFrame()\n",
    "for file in filenames:\n",
    "  df = pd.read_csv('./Data/'+file)\n",
    "  entire_dataset = pd.concat([entire_dataset , df])"
   ]
  },
  {
   "cell_type": "code",
   "execution_count": 5,
   "id": "5d509599-f8dc-412b-b431-cf768fc2a594",
   "metadata": {},
   "outputs": [
    {
     "data": {
      "text/html": [
       "<div>\n",
       "<style scoped>\n",
       "    .dataframe tbody tr th:only-of-type {\n",
       "        vertical-align: middle;\n",
       "    }\n",
       "\n",
       "    .dataframe tbody tr th {\n",
       "        vertical-align: top;\n",
       "    }\n",
       "\n",
       "    .dataframe thead th {\n",
       "        text-align: right;\n",
       "    }\n",
       "</style>\n",
       "<table border=\"1\" class=\"dataframe\">\n",
       "  <thead>\n",
       "    <tr style=\"text-align: right;\">\n",
       "      <th></th>\n",
       "      <th>Order ID</th>\n",
       "      <th>Product</th>\n",
       "      <th>Quantity Ordered</th>\n",
       "      <th>Price Each</th>\n",
       "      <th>Order Date</th>\n",
       "      <th>Purchase Address</th>\n",
       "    </tr>\n",
       "  </thead>\n",
       "  <tbody>\n",
       "    <tr>\n",
       "      <th>13009</th>\n",
       "      <td>308080</td>\n",
       "      <td>AA Batteries (4-pack)</td>\n",
       "      <td>2</td>\n",
       "      <td>3.84</td>\n",
       "      <td>12/26/19 10:35</td>\n",
       "      <td>294 North St, Seattle, WA 98101</td>\n",
       "    </tr>\n",
       "    <tr>\n",
       "      <th>10648</th>\n",
       "      <td>172185</td>\n",
       "      <td>Wired Headphones</td>\n",
       "      <td>1</td>\n",
       "      <td>11.99</td>\n",
       "      <td>03/13/19 23:59</td>\n",
       "      <td>261 Hill St, Dallas, TX 75001</td>\n",
       "    </tr>\n",
       "    <tr>\n",
       "      <th>8711</th>\n",
       "      <td>287122</td>\n",
       "      <td>AA Batteries (4-pack)</td>\n",
       "      <td>1</td>\n",
       "      <td>3.84</td>\n",
       "      <td>11/05/19 13:53</td>\n",
       "      <td>895 Cherry St, San Francisco, CA 94016</td>\n",
       "    </tr>\n",
       "    <tr>\n",
       "      <th>5426</th>\n",
       "      <td>300829</td>\n",
       "      <td>Lightning Charging Cable</td>\n",
       "      <td>1</td>\n",
       "      <td>14.95</td>\n",
       "      <td>12/23/19 18:02</td>\n",
       "      <td>807 Highland St, Boston, MA 02215</td>\n",
       "    </tr>\n",
       "    <tr>\n",
       "      <th>4248</th>\n",
       "      <td>213956</td>\n",
       "      <td>USB-C Charging Cable</td>\n",
       "      <td>1</td>\n",
       "      <td>11.95</td>\n",
       "      <td>06/12/19 19:58</td>\n",
       "      <td>693 Dogwood St, Seattle, WA 98101</td>\n",
       "    </tr>\n",
       "  </tbody>\n",
       "</table>\n",
       "</div>"
      ],
      "text/plain": [
       "      Order ID                   Product Quantity Ordered Price Each  \\\n",
       "13009   308080     AA Batteries (4-pack)                2       3.84   \n",
       "10648   172185          Wired Headphones                1      11.99   \n",
       "8711    287122     AA Batteries (4-pack)                1       3.84   \n",
       "5426    300829  Lightning Charging Cable                1      14.95   \n",
       "4248    213956      USB-C Charging Cable                1      11.95   \n",
       "\n",
       "           Order Date                        Purchase Address  \n",
       "13009  12/26/19 10:35         294 North St, Seattle, WA 98101  \n",
       "10648  03/13/19 23:59           261 Hill St, Dallas, TX 75001  \n",
       "8711   11/05/19 13:53  895 Cherry St, San Francisco, CA 94016  \n",
       "5426   12/23/19 18:02       807 Highland St, Boston, MA 02215  \n",
       "4248   06/12/19 19:58       693 Dogwood St, Seattle, WA 98101  "
      ]
     },
     "execution_count": 5,
     "metadata": {},
     "output_type": "execute_result"
    }
   ],
   "source": [
    "data = entire_dataset\n",
    "data.sample(5)"
   ]
  },
  {
   "cell_type": "code",
   "execution_count": 6,
   "id": "53b20b58-d358-4e68-a171-9a6dadf7bb84",
   "metadata": {},
   "outputs": [
    {
     "data": {
      "text/plain": [
       "(186850, 6)"
      ]
     },
     "execution_count": 6,
     "metadata": {},
     "output_type": "execute_result"
    }
   ],
   "source": [
    "data.shape"
   ]
  },
  {
   "cell_type": "markdown",
   "id": "013202d1-4961-4bdf-950e-d15088182d85",
   "metadata": {},
   "source": []
  }
 ],
 "metadata": {
  "kernelspec": {
   "display_name": "Python 3 (ipykernel)",
   "language": "python",
   "name": "python3"
  },
  "language_info": {
   "codemirror_mode": {
    "name": "ipython",
    "version": 3
   },
   "file_extension": ".py",
   "mimetype": "text/x-python",
   "name": "python",
   "nbconvert_exporter": "python",
   "pygments_lexer": "ipython3",
   "version": "3.12.9"
  }
 },
 "nbformat": 4,
 "nbformat_minor": 5
}
